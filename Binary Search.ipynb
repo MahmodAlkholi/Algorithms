{
 "cells": [
  {
   "cell_type": "markdown",
   "id": "67c90f0e",
   "metadata": {},
   "source": [
    "# Bainary Search & Big-O notation"
   ]
  },
  {
   "cell_type": "code",
   "execution_count": 24,
   "id": "5151d173",
   "metadata": {},
   "outputs": [],
   "source": [
    "def bainary_search(arr , guss , low , high):\n",
    "    \n",
    "    while low <= high:\n",
    "        med = (low + high) //2\n",
    "        \n",
    "        if arr[med] == guss:\n",
    "            return med\n",
    "        \n",
    "        elif arr[med] < guss:\n",
    "            low = med + 1\n",
    "            \n",
    "        else:\n",
    "            high = med - 1\n",
    "        \n",
    "    return -1\n",
    "\n",
    "\n",
    "            "
   ]
  },
  {
   "cell_type": "code",
   "execution_count": 30,
   "id": "5bf0c70b",
   "metadata": {},
   "outputs": [
    {
     "name": "stdout",
     "output_type": "stream",
     "text": [
      "Not found\n"
     ]
    }
   ],
   "source": [
    "my_list = [4,5,6,7,8,9,10,11,12]\n",
    "g = 15\n",
    "\n",
    "result = bainary_search(my_list , g , 0 , len(my_list) - 1)\n",
    "\n",
    "if result != -1:\n",
    "    print(\"Element is present at index \" + str(result))\n",
    "else:\n",
    "    print(\"Not found\")\n"
   ]
  },
  {
   "cell_type": "markdown",
   "id": "f56fe36a",
   "metadata": {},
   "source": [
    "# Big-O Run Time"
   ]
  },
  {
   "cell_type": "code",
   "execution_count": 37,
   "id": "1ab11eaf",
   "metadata": {},
   "outputs": [
    {
     "name": "stdout",
     "output_type": "stream",
     "text": [
      "it takes ***0:00:00.468543*** seconds\n"
     ]
    }
   ],
   "source": [
    "import datetime\n",
    "\n",
    "tic = datetime.datetime.now()\n",
    "numbers = []\n",
    "\n",
    "for i in range(1000000):\n",
    "    i = i ** 2\n",
    "    numbers.append(i)\n",
    "\n",
    "toc = datetime.datetime.now()\n",
    "\n",
    "time_token = toc - tic\n",
    "\n",
    "print(f\"it takes ***{time_token}*** seconds\")\n",
    "\n"
   ]
  },
  {
   "cell_type": "code",
   "execution_count": 32,
   "id": "ac088149",
   "metadata": {},
   "outputs": [
    {
     "name": "stdout",
     "output_type": "stream",
     "text": [
      "it takes ***0:00:01.624893*** seconds\n"
     ]
    }
   ],
   "source": [
    "import datetime\n",
    "\n",
    "tic = datetime.datetime.now()\n",
    "numbers = []\n",
    "\n",
    "for i in range(10000000):\n",
    "    numbers.append(i)\n",
    "\n",
    "toc = datetime.datetime.now()\n",
    "\n",
    "time_token = toc - tic\n",
    "\n",
    "print(f\"it takes ***{time_token}*** seconds\")"
   ]
  },
  {
   "cell_type": "code",
   "execution_count": 36,
   "id": "b5a1fe6e",
   "metadata": {},
   "outputs": [
    {
     "name": "stdout",
     "output_type": "stream",
     "text": [
      "it takes ***0:00:00.379090*** seconds\n"
     ]
    }
   ],
   "source": [
    "import datetime\n",
    "\n",
    "tic = datetime.datetime.now()\n",
    "\n",
    "\n",
    "\n",
    "numbers = [x ** 2 for x in range(1000000)]\n",
    "\n",
    "\n",
    "\n",
    "toc = datetime.datetime.now()\n",
    "\n",
    "time_token = toc - tic\n",
    "\n",
    "print(f\"it takes ***{time_token}*** seconds\")"
   ]
  },
  {
   "cell_type": "markdown",
   "id": "9c5153a8",
   "metadata": {},
   "source": [
    "#### Let’s have a look at a small example for clarification. First, let’s examine the readable, \n",
    "#### easy-to-understand variant for inverting the contents of a string, which also shows very \n",
    "#### nicely the two important elements of recursive termination and descent:"
   ]
  },
  {
   "cell_type": "code",
   "execution_count": 8,
   "id": "38edfec0",
   "metadata": {},
   "outputs": [
    {
     "data": {
      "text/plain": [
       "'GFEDCBA'"
      ]
     },
     "execution_count": 8,
     "metadata": {},
     "output_type": "execute_result"
    }
   ],
   "source": [
    "def reverse_string(text):\n",
    "    # recursive termination\n",
    "    if len(text) <= 1:\n",
    "        return text\n",
    "    first_char = text[0]\n",
    "    remaining = text[1:]\n",
    "        # recursive descent\n",
    "    return reverse_string(remaining) + first_char\n",
    "\n",
    "reverse_string(\"ABCDEFG\")"
   ]
  },
  {
   "cell_type": "markdown",
   "id": "6b98f11e",
   "metadata": {},
   "source": [
    "Extraction of digits To extract the digits of a number, combine modulo and division \n",
    "as long as the remaining value is greater than 0."
   ]
  },
  {
   "cell_type": "code",
   "execution_count": 7,
   "id": "ba33621d",
   "metadata": {},
   "outputs": [
    {
     "name": "stdout",
     "output_type": "stream",
     "text": [
      "9 8 7 6 5 4 3 2 1 \n"
     ]
    }
   ],
   "source": [
    "def extract_digits(number):\n",
    "    remaining_value = number\n",
    "    while remaining_value > 0:\n",
    "        digit = remaining_value % 10\n",
    "        remaining_value = remaining_value // 10\n",
    "        print(digit, end=' ')\n",
    "    print()\n",
    "\n",
    "extract_digits(123456789)"
   ]
  },
  {
   "cell_type": "markdown",
   "id": "028821fc",
   "metadata": {},
   "source": [
    "Determine number of digits Instead of extracting individual digits, you can also use \n",
    "a repeated division to determine the number of digits in a decimal number by simply \n",
    "dividing by 10 until there is no remainder left:"
   ]
  },
  {
   "cell_type": "code",
   "execution_count": 11,
   "id": "53cb3f9f",
   "metadata": {},
   "outputs": [
    {
     "data": {
      "text/plain": [
       "9"
      ]
     },
     "execution_count": 11,
     "metadata": {},
     "output_type": "execute_result"
    }
   ],
   "source": [
    "def count_digits(number):\n",
    "    count = 0\n",
    "    remaining_value = number\n",
    "    while remaining_value > 0:\n",
    "        remaining_value = remaining_value // 10\n",
    "        count += 1\n",
    "    return count\n",
    "\n",
    "count_digits(142589712)"
   ]
  },
  {
   "cell_type": "code",
   "execution_count": 12,
   "id": "3460aa38",
   "metadata": {},
   "outputs": [
    {
     "data": {
      "text/plain": [
       "[2, 3, 4]"
      ]
     },
     "execution_count": 12,
     "metadata": {},
     "output_type": "execute_result"
    }
   ],
   "source": [
    "list(range(2,5))"
   ]
  },
  {
   "cell_type": "markdown",
   "id": "740150b6",
   "metadata": {},
   "source": [
    "In the following, you examine how to determine all real divisors of a number (i. e., those \n",
    "without the number itself). The algorithm is quite simple. Initially, the result contains \n",
    "the number 1, as this is always a valid divider. Then you go through all numbers starting \n",
    "by 2 up to half of the value (all higher values cannot be integer divisors if 2 is already \n",
    "a divisor) and check if they divide the given number without a remainder. If this is the \n",
    "case, then this number is a divisor and is included in a result list. You implement the \n",
    "whole thing as follows:"
   ]
  },
  {
   "cell_type": "code",
   "execution_count": 23,
   "id": "34b9b772",
   "metadata": {},
   "outputs": [
    {
     "data": {
      "text/plain": [
       "[1, 3, 5, 15]"
      ]
     },
     "execution_count": 23,
     "metadata": {},
     "output_type": "execute_result"
    }
   ],
   "source": [
    "def find_proper_divisors(value):\n",
    "    divisors = [1]\n",
    "    for i in range(2, value+1):\n",
    "        if value % i == 0:\n",
    "            divisors.append(i)\n",
    "    return divisors\n",
    "\n",
    "find_proper_divisors(15)"
   ]
  },
  {
   "cell_type": "markdown",
   "id": "fa048f52",
   "metadata": {},
   "source": [
    "A few simple examples of lambdas are the addition of two numbers, the \n",
    "multiplication by a factor of 2 or two numbers, and the calculation of power. These \n",
    "actions can be written as lambdas as follows:"
   ]
  },
  {
   "cell_type": "code",
   "execution_count": 24,
   "id": "acd7c77e",
   "metadata": {},
   "outputs": [
    {
     "name": "stdout",
     "output_type": "stream",
     "text": [
      "14\n",
      "256\n"
     ]
    }
   ],
   "source": [
    "add_one = lambda x: x + 1\n",
    "double_it = lambda x: x * 2\n",
    "mult = lambda a, b : a * b\n",
    "power_of = lambda x, y: x ** y\n",
    "\n",
    "print(double_it(7))\n",
    "print(power_of(2,8))"
   ]
  },
  {
   "cell_type": "markdown",
   "id": "bae1ef81",
   "metadata": {},
   "source": [
    "Algorithm The implementation is a tiny bit more complex than before. It uses two \n",
    "variables for count and sum as well as a loop. The modulo operator helps to check \n",
    "whether divisibility is given."
   ]
  },
  {
   "cell_type": "code",
   "execution_count": 6,
   "id": "bcc44bf3",
   "metadata": {},
   "outputs": [
    {
     "name": "stdout",
     "output_type": "stream",
     "text": [
      "count: 5\n",
      "sum: 27\n"
     ]
    }
   ],
   "source": [
    "def calc_sum_and_count_all_numbers_div_by_2_or_7(max_exclusive):\n",
    "    count = 0\n",
    "    sum = 0\n",
    "    for i in range(1, max_exclusive):\n",
    "        if i % 2 == 0 or i % 7 == 0:\n",
    "            count += 1\n",
    "            sum += i\n",
    "    print(\"count:\", count)\n",
    "    print(\"sum:\", sum)\n",
    "\n",
    "calc_sum_and_count_all_numbers_div_by_2_or_7(10)"
   ]
  },
  {
   "cell_type": "markdown",
   "id": "c3b9f147",
   "metadata": {},
   "source": [
    "## swap"
   ]
  },
  {
   "cell_type": "code",
   "execution_count": 18,
   "id": "28efa2b7",
   "metadata": {},
   "outputs": [
    {
     "data": {
      "text/plain": [
       "(5, 8)"
      ]
     },
     "execution_count": 18,
     "metadata": {},
     "output_type": "execute_result"
    }
   ],
   "source": [
    "x = 5\n",
    "y = 8\n",
    "\n",
    "x , y"
   ]
  },
  {
   "cell_type": "markdown",
   "id": "b682172d",
   "metadata": {},
   "source": [
    "## Zyad's way"
   ]
  },
  {
   "cell_type": "code",
   "execution_count": 19,
   "id": "876321f6",
   "metadata": {},
   "outputs": [
    {
     "data": {
      "text/plain": [
       "(5, 10)"
      ]
     },
     "execution_count": 19,
     "metadata": {},
     "output_type": "execute_result"
    }
   ],
   "source": [
    "def funct(x , y):\n",
    "    x = x+y\n",
    "    y = x-y\n",
    "    x = x-y\n",
    "\n",
    "    return x , y\n",
    "\n",
    "funct(10 , 5)"
   ]
  },
  {
   "cell_type": "code",
   "execution_count": 21,
   "id": "3c572336",
   "metadata": {},
   "outputs": [
    {
     "data": {
      "text/plain": [
       "False"
      ]
     },
     "execution_count": 21,
     "metadata": {},
     "output_type": "execute_result"
    }
   ],
   "source": [
    "def chick(digit):\n",
    "    if digit.isnumeric():\n",
    "        return True \n",
    "    else:return False\n",
    "\n",
    "chick(\"y\")"
   ]
  },
  {
   "cell_type": "code",
   "execution_count": 24,
   "id": "cdb0fa06",
   "metadata": {},
   "outputs": [
    {
     "data": {
      "text/plain": [
       "('e', 5)"
      ]
     },
     "execution_count": 24,
     "metadata": {},
     "output_type": "execute_result"
    }
   ],
   "source": [
    "def swap(x , y):\n",
    "    temp = \"\"\n",
    "\n",
    "    if x or y == type(int):\n",
    "        temp = x\n",
    "        x = y\n",
    "        y = temp\n",
    "\n",
    "    else:\n",
    "        temp = x\n",
    "        x = y\n",
    "        y = temp\n",
    "\n",
    "    return x , y\n",
    "\n",
    "\n",
    "swap(5 , \"e\")"
   ]
  },
  {
   "cell_type": "code",
   "execution_count": null,
   "id": "0fd75555",
   "metadata": {},
   "outputs": [],
   "source": [
    "n = [10,2,3,7,8,6,4,4,5,0]"
   ]
  },
  {
   "cell_type": "code",
   "execution_count": null,
   "id": "ddc6632f",
   "metadata": {},
   "outputs": [],
   "source": []
  },
  {
   "cell_type": "markdown",
   "id": "8727ace7",
   "metadata": {},
   "source": [
    "## search for min & max value in list"
   ]
  },
  {
   "cell_type": "code",
   "execution_count": 26,
   "id": "bd292b76",
   "metadata": {},
   "outputs": [
    {
     "data": {
      "text/plain": [
       "0"
      ]
     },
     "execution_count": 26,
     "metadata": {},
     "output_type": "execute_result"
    }
   ],
   "source": [
    "my_l = [2,9,1,7,5,3]\n",
    "n = [10,2,3,7,8,6,4,4,5,0]\n",
    "\n",
    "def find_min(l):\n",
    "    min_val = l[0]\n",
    "    for i in l:\n",
    "        if i < min_val:\n",
    "            min_val = i\n",
    "\n",
    "    return min_val\n",
    "\n",
    "find_min(n)"
   ]
  },
  {
   "cell_type": "markdown",
   "id": "c8ef35c2",
   "metadata": {},
   "source": [
    "## selection sorted"
   ]
  },
  {
   "cell_type": "code",
   "execution_count": 27,
   "id": "c9500426",
   "metadata": {},
   "outputs": [],
   "source": [
    "n = [10,2,3,7,8,6,4,4,5,0]"
   ]
  },
  {
   "cell_type": "code",
   "execution_count": 92,
   "id": "ca5442a3",
   "metadata": {},
   "outputs": [
    {
     "data": {
      "text/plain": [
       "[0, 2, 3, 4, 4, 5, 6, 7, 8, 10]"
      ]
     },
     "execution_count": 92,
     "metadata": {},
     "output_type": "execute_result"
    }
   ],
   "source": [
    "def sorting(l):\n",
    "    is_sorted = False\n",
    "    while not is_sorted:\n",
    "        is_sorted = True\n",
    "        for i in range(len(l)-1):\n",
    "            if l[i] > l[i+1]:\n",
    "                l[i] , l[i+1] = l[i+1] , l[i]\n",
    "                is_sorted = False\n",
    "    return l\n",
    "\n",
    "sorting(n)"
   ]
  },
  {
   "cell_type": "code",
   "execution_count": 1,
   "id": "0d0b7af6",
   "metadata": {},
   "outputs": [
    {
     "data": {
      "text/plain": [
       "(6, 5)"
      ]
     },
     "execution_count": 1,
     "metadata": {},
     "output_type": "execute_result"
    }
   ],
   "source": [
    "def swap(x , y):\n",
    "    temp = 0\n",
    "    \n",
    "    temp = x\n",
    "    x = y\n",
    "    y = temp\n",
    "\n",
    "    return x , y\n",
    "\n",
    "\n",
    "\n",
    "\n",
    "swap(5,6)\n",
    "    "
   ]
  },
  {
   "cell_type": "code",
   "execution_count": 55,
   "id": "6198f788",
   "metadata": {},
   "outputs": [
    {
     "data": {
      "text/plain": [
       "2"
      ]
     },
     "execution_count": 55,
     "metadata": {},
     "output_type": "execute_result"
    }
   ],
   "source": [
    "def find_minimum(x , y):\n",
    "    if x < y:\n",
    "        return x\n",
    "    \n",
    "\n",
    "find_min(2 , 8)"
   ]
  },
  {
   "cell_type": "code",
   "execution_count": 100,
   "id": "5ec7c7c5",
   "metadata": {},
   "outputs": [
    {
     "data": {
      "text/plain": [
       "[0, 2, 3, 4, 4, 5, 6, 7, 8, 10]"
      ]
     },
     "execution_count": 100,
     "metadata": {},
     "output_type": "execute_result"
    }
   ],
   "source": [
    "n = [10,2,3,7,8,6,4,4,5,0]\n",
    "def sorting(l):\n",
    "    is_sorted = False\n",
    "    while not is_sorted:\n",
    "        is_sorted = True\n",
    "        for i in range(len(l)-1):\n",
    "            if l[i] > l[i+1]:\n",
    "                l[i] , l[i+1] = l[i+1] , l[i]\n",
    "                is_sorted = False\n",
    "    return l\n",
    "\n",
    "sorting(n)"
   ]
  },
  {
   "cell_type": "markdown",
   "id": "70d5816a",
   "metadata": {},
   "source": [
    "## Bubble sort"
   ]
  },
  {
   "cell_type": "code",
   "execution_count": 1,
   "id": "c7662b74",
   "metadata": {},
   "outputs": [
    {
     "name": "stdout",
     "output_type": "stream",
     "text": [
      "Sorted array is:\n",
      " 0  2  3  4  4  5  6  7  8  10 "
     ]
    }
   ],
   "source": [
    "n = [10,2,3,7,8,6,4,4,5,0]\n",
    "# Python program for implementation of Bubble Sort\n",
    "\n",
    "def bubbleSort(arr):\n",
    "\tn = len(arr)\n",
    "\t# optimize code, so if the array is already sorted, it doesn't need\n",
    "\t# to go through the entire process\n",
    "\tswapped = False\n",
    "\t# Traverse through all array elements\n",
    "\tfor i in range(n-1):\n",
    "\t\t# range(n) also work but outer loop will\n",
    "\t\t# repeat one time more than needed.\n",
    "\t\t# Last i elements are already in place\n",
    "\t\tfor j in range(0, n-i-1):\n",
    "\n",
    "\t\t\t# traverse the array from 0 to n-i-1\n",
    "\t\t\t# Swap if the element found is greater\n",
    "\t\t\t# than the next element\n",
    "\t\t\tif arr[j] > arr[j + 1]:\n",
    "\t\t\t\tswapped = True\n",
    "\t\t\t\tarr[j], arr[j + 1] = arr[j + 1], arr[j]\n",
    "\t\t\n",
    "\t\tif not swapped:\n",
    "\t\t\t# if we haven't needed to make a single swap, we\n",
    "\t\t\t# can just exit the main loop.\n",
    "\t\t\treturn\n",
    "\n",
    "\n",
    "# Driver code to test above\n",
    "\n",
    "\n",
    "bubbleSort(n)\n",
    "\n",
    "print(\"Sorted array is:\")\n",
    "for i in range(len(n)):\n",
    "\tprint(\"% d\" % n[i], end=\" \")\n",
    "\n"
   ]
  },
  {
   "cell_type": "markdown",
   "id": "f4469ff5",
   "metadata": {},
   "source": [
    "## Peak Finding Problem"
   ]
  },
  {
   "cell_type": "markdown",
   "id": "f3ab90e3",
   "metadata": {},
   "source": [
    "### Position 2 is a peak if and only if (b >= a and b >= c) . Position 9 is a peak if i >= h .\n",
    "#### lst = [a, b, c, d, e, f, g, h, i]"
   ]
  },
  {
   "cell_type": "code",
   "execution_count": 10,
   "id": "d2a2e7c1",
   "metadata": {},
   "outputs": [
    {
     "name": "stdout",
     "output_type": "stream",
     "text": [
      "1\n"
     ]
    }
   ],
   "source": [
    "# Python3 program for the above approach\n",
    "\n",
    "# Function to find the peak\n",
    "# index for the given array\n",
    "def peakIndex(arr):\n",
    "\t\n",
    "\tN = len(arr)\n",
    "\n",
    "\t# Base Case\n",
    "\tif (len(arr) < 3):\n",
    "\t\treturn -1\n",
    "\n",
    "\ti = 0\n",
    "\n",
    "\t# Check for strictly\n",
    "\t# increasing array\n",
    "\twhile (i + 1 < N):\n",
    "\n",
    "\t\t# If the strictly increasing\n",
    "\t\t# condition is violated, then break\n",
    "\t\tif (arr[i + 1] < arr[i] or\n",
    "\t\t\tarr[i] == arr[i + 1]):\n",
    "\t\t\tbreak\n",
    "\t\t\n",
    "\t\ti += 1\n",
    "\n",
    "\tif (i == 0 or i == N - 1):\n",
    "\t\treturn -1\n",
    "\n",
    "\t# Stores the value of i, which\n",
    "\t# is a potential peak index\n",
    "\tans = i\n",
    "\n",
    "\t# Second traversal, for\n",
    "\t# strictly decreasing array\n",
    "\twhile (i < N - 1):\n",
    "\n",
    "\t\t# When the strictly\n",
    "\t\t# decreasing condition is\n",
    "\t\t# violated, then break\n",
    "\t\tif (arr[i] < arr[i + 1] or\n",
    "\t\t\tarr[i] == arr[i + 1]):\n",
    "\t\t\tbreak\n",
    "\t\t\n",
    "\t\ti += 1\n",
    "\n",
    "\t# If i = N - 1, it means that\n",
    "\t# ans is the peak index\n",
    "\tif (i == N - 1):\n",
    "\t\treturn ans\n",
    "\n",
    "\t# Otherwise, peak index doesn't exist\n",
    "\treturn -1\n",
    "\n",
    "# Driver Code\n",
    "if __name__ == '__main__':\n",
    "\t\n",
    "\tarr = [0, 5, 0]\n",
    "\t\n",
    "\tprint(peakIndex(arr))\n",
    "\n",
    "# This code is contributed by mohit kumar 29\n"
   ]
  },
  {
   "cell_type": "code",
   "execution_count": 69,
   "id": "334d6376",
   "metadata": {},
   "outputs": [
    {
     "data": {
      "text/plain": [
       "10"
      ]
     },
     "execution_count": 69,
     "metadata": {},
     "output_type": "execute_result"
    }
   ],
   "source": [
    "lst = [7,2,6,4,4,5,10,2,3]\n",
    "\n",
    "def get_high_peak(r):\n",
    "    n = len(r)\n",
    "    #start = r[0]\n",
    "    for i in range(n-1):\n",
    "\n",
    "        # if r[i] < r[i-1]:\n",
    "        #     start = r[i]\n",
    "        \n",
    "        if r[i] > r[i+1]:\n",
    "            start = r[i]\n",
    "            \n",
    "    return start\n",
    "get_high_peak(lst)"
   ]
  },
  {
   "cell_type": "markdown",
   "id": "96552f85",
   "metadata": {},
   "source": [
    "# insertion sot"
   ]
  },
  {
   "cell_type": "markdown",
   "id": "321415ee",
   "metadata": {},
   "source": [
    "## lst = [8,2,4,9,3,6]"
   ]
  },
  {
   "cell_type": "code",
   "execution_count": 4,
   "id": "76bbfa0a",
   "metadata": {},
   "outputs": [
    {
     "name": "stdout",
     "output_type": "stream",
     "text": [
      "[5, 6, 11, 12, 13]\n"
     ]
    }
   ],
   "source": [
    "#arr = [8,2,4,9,3,6]\n",
    "\n",
    "# Python program for implementation of Insertion Sort\n",
    "\n",
    "# Function to do insertion sort\n",
    "def insertionSort(arr):\n",
    "\n",
    "\t# Traverse through 1 to len(arr)\n",
    "\tfor i in range(1, len(arr)):\n",
    "\n",
    "\t\tkey = arr[i]\n",
    "\n",
    "\t\t# Move elements of arr[0..i-1], that are\n",
    "\t\t# greater than key, to one position ahead\n",
    "\t\t# of their current position\n",
    "\t\tj = i-1\n",
    "\t\twhile j >=0 and key < arr[j] :\n",
    "\t\t\t\tarr[j+1] = arr[j]\n",
    "\t\t\t\tj -= 1\n",
    "\t\tarr[j+1] = key\n",
    "\n",
    "\n",
    "#sorting the array [12, 11, 13, 5, 6] using insertionSort\n",
    "arr = [12, 11, 13, 5, 6]\n",
    "insertionSort(arr)\n",
    "print(arr)\n"
   ]
  },
  {
   "cell_type": "code",
   "execution_count": null,
   "id": "7c359820",
   "metadata": {},
   "outputs": [],
   "source": []
  },
  {
   "cell_type": "code",
   "execution_count": null,
   "id": "48e5323a",
   "metadata": {},
   "outputs": [],
   "source": []
  }
 ],
 "metadata": {
  "kernelspec": {
   "display_name": "Python 3.9.13 ('super_nova')",
   "language": "python",
   "name": "python3"
  },
  "language_info": {
   "codemirror_mode": {
    "name": "ipython",
    "version": 3
   },
   "file_extension": ".py",
   "mimetype": "text/x-python",
   "name": "python",
   "nbconvert_exporter": "python",
   "pygments_lexer": "ipython3",
   "version": "3.9.13"
  },
  "vscode": {
   "interpreter": {
    "hash": "c7ec4f513601c880b2c75526e0866c71700e3da49672034e885917bb6e0f3156"
   }
  }
 },
 "nbformat": 4,
 "nbformat_minor": 5
}
